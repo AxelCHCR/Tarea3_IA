{
 "cells": [
  {
   "cell_type": "markdown",
   "metadata": {},
   "source": [
    "# ChatBot - Tarea 3 - Axel Chaves Reyes, Pablo Hidalgo Navarro"
   ]
  },
  {
   "cell_type": "markdown",
   "metadata": {},
   "source": [
    "## Bibliotecas Utilizadas"
   ]
  },
  {
   "cell_type": "code",
   "execution_count": 22,
   "metadata": {},
   "outputs": [],
   "source": [
    "from gensim.models import Word2Vec\n",
    "from sklearn.metrics.pairwise import cosine_similarity\n",
    "import numpy as np"
   ]
  },
  {
   "cell_type": "markdown",
   "metadata": {},
   "source": [
    "## Modelo utilizado y las respuestas correspondientes"
   ]
  },
  {
   "cell_type": "code",
   "execution_count": 23,
   "metadata": {},
   "outputs": [],
   "source": [
    "model = Word2Vec(sentences=[[\"área\", \"círculo\", \"fórmula\"], [\"ecuación\", \"cuadrática\"], [\"ley\", \"Newton\"], [\"enlace\", \"covalente\", \"iónico\"], [\"Ohm\", \"corriente\", \"resistencia\"], [\"ecosistema\", \"organismos\", \"entorno\"], [\"clasificación\", \"taxonómica\", \"reino\"], [\"conservación\", \"energía\", \"relatividad\"], [\"sistema\", \"nervioso\", \"información\"], [\"agua\", \"ecosistema\", \"conservación\"]], min_count=1)\n",
    "\n",
    "# Responses of chatbot\n",
    "responses = [\n",
    "    \"La fórmula para calcular el área de un círculo es A = πr^2.\",\n",
    "    \"Para resolver una ecuación cuadrática, se puede utilizar la fórmula general o completar el cuadrado, dependiendo del caso.\",\n",
    "    \"La tercera ley de Newton establece que a toda acción corresponde una reacción igual y opuesta.\",\n",
    "    \"En un enlace covalente, los átomos comparten electrones, mientras que en un enlace iónico, los electrones se transfieren de un átomo a otro.\",\n",
    "    \"La ley de Ohm establece que la corriente que pasa a través de un conductor es directamente proporcional al voltaje aplicado e inversamente proporcional a la resistencia del conductor.\",\n",
    "    \"Un ecosistema es una comunidad de organismos vivos que interactúan entre sí y con su entorno físico en un área determinada.\",\n",
    "    \"Los seres vivos se clasifican en diferentes categorías taxonómicas, como reino, filo, clase, orden, familia, género y especie.\",\n",
    "    \"La ley de la conservación de la energía establece que la energía no puede crearse ni destruirse, solo puede cambiar de forma o transferirse de un objeto a otro.\",\n",
    "    \"La velocidad es la tasa de cambio de la posición de un objeto en relación con el tiempo, mientras que la aceleración es la tasa de cambio de la velocidad de un objeto en relación con el tiempo.\",\n",
    "    \"La teoría de la relatividad de Einstein describe cómo la gravedad es una consecuencia de la curvatura del espacio-tiempo causada por la masa y la energía.\",\n",
    "    \"La función principal del sistema nervioso es procesar la información sensorial, coordinar las respuestas del cuerpo y controlar el funcionamiento de los órganos y sistemas.\",\n",
    "    \"Un ecosistema acuático es un sistema natural que incluye organismos vivos y su entorno físico en cuerpos de agua como océanos, lagos, ríos y estanques.\",\n",
    "    \"La conservación del agua es crucial para garantizar el suministro de agua potable para las generaciones futuras, mantener los ecosistemas saludables y reducir el impacto del cambio climático.\"\n",
    "]"
   ]
  },
  {
   "cell_type": "markdown",
   "metadata": {},
   "source": [
    "## Convirtiendo el texto a embedding"
   ]
  },
  {
   "cell_type": "code",
   "execution_count": 24,
   "metadata": {},
   "outputs": [],
   "source": [
    "def get_word_embedding(word):\n",
    "    try:\n",
    "        return model.wv[word]\n",
    "    except KeyError:\n",
    "        return np.zeros(model.vector_size)"
   ]
  },
  {
   "cell_type": "markdown",
   "metadata": {},
   "source": [
    "## Encontrar la mejor respuesta"
   ]
  },
  {
   "cell_type": "code",
   "execution_count": 25,
   "metadata": {},
   "outputs": [],
   "source": [
    "def find_response(question, responses):\n",
    "    question_embedding = np.mean([get_word_embedding(word) for word in question.split()], axis=0)\n",
    "    best_similarity = -1\n",
    "    best_response = None\n",
    "    \n",
    "    for response in responses:\n",
    "        response_embedding = np.mean([get_word_embedding(word) for word in response.split()], axis=0)\n",
    "        similarity = cosine_similarity([question_embedding], [response_embedding])[0][0]\n",
    "        \n",
    "        if similarity > best_similarity:\n",
    "            best_similarity = similarity\n",
    "            best_response = response\n",
    "            \n",
    "    return best_response"
   ]
  },
  {
   "cell_type": "markdown",
   "metadata": {},
   "source": [
    "## Ejemplo de Uso"
   ]
  },
  {
   "cell_type": "code",
   "execution_count": 26,
   "metadata": {},
   "outputs": [
    {
     "name": "stdout",
     "output_type": "stream",
     "text": [
      "Respuesta: La fórmula para calcular el área de un círculo es A = πr^2.\n"
     ]
    }
   ],
   "source": [
    "user_question = \"¿Cuál es la fórmula para calcular el área de un círculo?\"\n",
    "response = find_response(user_question, responses)\n",
    "print(\"Respuesta:\", response)"
   ]
  }
 ],
 "metadata": {
  "kernelspec": {
   "display_name": "Python 3",
   "language": "python",
   "name": "python3"
  },
  "language_info": {
   "codemirror_mode": {
    "name": "ipython",
    "version": 3
   },
   "file_extension": ".py",
   "mimetype": "text/x-python",
   "name": "python",
   "nbconvert_exporter": "python",
   "pygments_lexer": "ipython3",
   "version": "3.11.4"
  }
 },
 "nbformat": 4,
 "nbformat_minor": 2
}
